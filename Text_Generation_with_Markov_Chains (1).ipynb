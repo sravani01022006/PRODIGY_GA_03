{
  "nbformat": 4,
  "nbformat_minor": 0,
  "metadata": {
    "colab": {
      "provenance": []
    },
    "kernelspec": {
      "name": "python3",
      "display_name": "Python 3"
    },
    "language_info": {
      "name": "python"
    }
  },
  "cells": [
    {
      "cell_type": "code",
      "execution_count": 1,
      "metadata": {
        "id": "f-choO1pD19b"
      },
      "outputs": [],
      "source": [
        "sample_text = \"\"\"\n",
        "The sun sets over the mountains. Birds return to their nests. The forest becomes quiet.\n",
        "A cool breeze flows through the trees. Night slowly takes over the sky.\n",
        "\"\"\"\n"
      ]
    },
    {
      "cell_type": "code",
      "source": [
        "import random\n",
        "\n",
        "def build_markov_chain(text):\n",
        "    words = text.split()\n",
        "    chain = {}\n",
        "    for i in range(len(words) - 1):\n",
        "        word, next_word = words[i], words[i + 1]\n",
        "        chain.setdefault(word, []).append(next_word)\n",
        "    return chain\n",
        "\n",
        "markov_chain = build_markov_chain(sample_text)\n",
        "print(\"🔗 Markov Chain:\")\n",
        "print(markov_chain)\n"
      ],
      "metadata": {
        "colab": {
          "base_uri": "https://localhost:8080/"
        },
        "id": "JKx4SSHEEKNq",
        "outputId": "e87bd979-152d-4b5f-86d7-1a21e15ef4fd"
      },
      "execution_count": 2,
      "outputs": [
        {
          "output_type": "stream",
          "name": "stdout",
          "text": [
            "🔗 Markov Chain:\n",
            "{'The': ['sun', 'forest'], 'sun': ['sets'], 'sets': ['over'], 'over': ['the', 'the'], 'the': ['mountains.', 'trees.', 'sky.'], 'mountains.': ['Birds'], 'Birds': ['return'], 'return': ['to'], 'to': ['their'], 'their': ['nests.'], 'nests.': ['The'], 'forest': ['becomes'], 'becomes': ['quiet.'], 'quiet.': ['A'], 'A': ['cool'], 'cool': ['breeze'], 'breeze': ['flows'], 'flows': ['through'], 'through': ['the'], 'trees.': ['Night'], 'Night': ['slowly'], 'slowly': ['takes'], 'takes': ['over']}\n"
          ]
        }
      ]
    },
    {
      "cell_type": "code",
      "source": [
        "def generate_text(chain, start_word, length=20):\n",
        "    word = start_word\n",
        "    result = [word]\n",
        "    for _ in range(length):\n",
        "        if word in chain:\n",
        "            word = random.choice(chain[word])\n",
        "            result.append(word)\n",
        "        else:\n",
        "            break\n",
        "    return ' '.join(result)\n",
        "\n",
        "generated_text = generate_text(markov_chain, \"The\")\n",
        "print(\"📝 Generated Text:\")\n",
        "print(generated_text)\n"
      ],
      "metadata": {
        "colab": {
          "base_uri": "https://localhost:8080/"
        },
        "id": "LePksP9MEQX-",
        "outputId": "c76363b4-0c48-4176-d0f8-37965a8aaee1"
      },
      "execution_count": 3,
      "outputs": [
        {
          "output_type": "stream",
          "name": "stdout",
          "text": [
            "📝 Generated Text:\n",
            "The forest becomes quiet. A cool breeze flows through the mountains. Birds return to their nests. The forest becomes quiet. A\n"
          ]
        }
      ]
    },
    {
      "cell_type": "code",
      "source": [
        "import random\n",
        "\n",
        "sample_text = \"\"\"\n",
        "The sun sets over the mountains. Birds return to their nests. The forest becomes quiet.\n",
        "A cool breeze flows through the trees. Night slowly takes over the sky.\n",
        "\"\"\"\n",
        "\n",
        "def build_markov_chain(text):\n",
        "    words = text.split()\n",
        "    chain = {}\n",
        "    for i in range(len(words) - 1):\n",
        "        word, next_word = words[i], words[i + 1]\n",
        "        chain.setdefault(word, []).append(next_word)\n",
        "    return chain\n",
        "\n",
        "def generate_text(chain, start_word, length=20):\n",
        "    word = start_word\n",
        "    result = [word]\n",
        "    for _ in range(length):\n",
        "        if word in chain:\n",
        "            word = random.choice(chain[word])\n",
        "            result.append(word)\n",
        "        else:\n",
        "            break\n",
        "    return ' '.join(result)\n",
        "\n",
        "markov_chain = build_markov_chain(sample_text)\n",
        "generated_text = generate_text(markov_chain, \"The\")\n",
        "print(\"🔗 Markov Chain:\", markov_chain)\n",
        "print(\"\\n📝 Generated Text:\\n\", generated_text)\n"
      ],
      "metadata": {
        "colab": {
          "base_uri": "https://localhost:8080/"
        },
        "id": "7WH277NsEjL6",
        "outputId": "ce26ba0f-fdac-4cd5-ea4c-edad5ee4c43a"
      },
      "execution_count": 4,
      "outputs": [
        {
          "output_type": "stream",
          "name": "stdout",
          "text": [
            "🔗 Markov Chain: {'The': ['sun', 'forest'], 'sun': ['sets'], 'sets': ['over'], 'over': ['the', 'the'], 'the': ['mountains.', 'trees.', 'sky.'], 'mountains.': ['Birds'], 'Birds': ['return'], 'return': ['to'], 'to': ['their'], 'their': ['nests.'], 'nests.': ['The'], 'forest': ['becomes'], 'becomes': ['quiet.'], 'quiet.': ['A'], 'A': ['cool'], 'cool': ['breeze'], 'breeze': ['flows'], 'flows': ['through'], 'through': ['the'], 'trees.': ['Night'], 'Night': ['slowly'], 'slowly': ['takes'], 'takes': ['over']}\n",
            "\n",
            "📝 Generated Text:\n",
            " The forest becomes quiet. A cool breeze flows through the mountains. Birds return to their nests. The sun sets over the\n"
          ]
        }
      ]
    }
  ]
}